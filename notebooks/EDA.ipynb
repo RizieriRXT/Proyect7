{
 "cells": [
  {
   "cell_type": "code",
   "execution_count": 12,
   "id": "26684533",
   "metadata": {},
   "outputs": [],
   "source": [
    "import pandas as pd\n",
    "import plotly.express as px\n",
    "import streamlit as st\n",
    "import os"
   ]
  },
  {
   "cell_type": "code",
   "execution_count": 13,
   "id": "22684aea",
   "metadata": {},
   "outputs": [
    {
     "name": "stdout",
     "output_type": "stream",
     "text": [
      "['Common', 'Microsoft VS Code']\n"
     ]
    }
   ],
   "source": [
    "print(os.listdir(\"../\"))"
   ]
  },
  {
   "cell_type": "code",
   "execution_count": 14,
   "id": "adf93f0e",
   "metadata": {},
   "outputs": [
    {
     "name": "stderr",
     "output_type": "stream",
     "text": [
      "2025-05-07 23:50:16.576 \n",
      "  \u001b[33m\u001b[1mWarning:\u001b[0m to view this Streamlit app on a browser, run it with the following\n",
      "  command:\n",
      "\n",
      "    streamlit run c:\\Users\\Rizie\\anaconda3\\Lib\\site-packages\\ipykernel_launcher.py [ARGUMENTS]\n"
     ]
    }
   ],
   "source": [
    "car_data = pd.read_csv(\"https://vscode.dev/github.com/RizieriRXT/Proyect7/blob/main/vehicles_us.csv#L4\") # leer los datos\n",
    "hist_button = st.button('Construir histograma') # crear un \n"
   ]
  },
  {
   "cell_type": "code",
   "execution_count": 15,
   "id": "88ccdd3f",
   "metadata": {},
   "outputs": [],
   "source": [
    "if hist_button: # al hacer clic en el botón\n",
    "    # escribir un mensaje\n",
    "    st.write('Creación de un histograma para el conjunto de datos de anuncios de venta de coches')\n",
    "         \n",
    "    # crear un histograma\n",
    "    fig = px.histogram(car_data, x=\"odometer\")\n",
    "     \n",
    "    # mostrar un gráfico Plotly interactivo\n",
    "    st.plotly_chart(fig, use_container_width=True)"
   ]
  }
 ],
 "metadata": {
  "kernelspec": {
   "display_name": "base",
   "language": "python",
   "name": "python3"
  },
  "language_info": {
   "codemirror_mode": {
    "name": "ipython",
    "version": 3
   },
   "file_extension": ".py",
   "mimetype": "text/x-python",
   "name": "python",
   "nbconvert_exporter": "python",
   "pygments_lexer": "ipython3",
   "version": "3.12.7"
  }
 },
 "nbformat": 4,
 "nbformat_minor": 5
}
